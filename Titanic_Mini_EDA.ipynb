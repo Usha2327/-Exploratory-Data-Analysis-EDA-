
# Titanic Mini Dataset Exploratory Data Analysis (EDA)

## 1. Importing Libraries
```python
import pandas as pd
import seaborn as sns
import matplotlib.pyplot as plt
%matplotlib inline
```

## 2. Creating Mini Dataset
```python
data = {
    'survived': [1, 0, 1, 0, 1, 0, 0, 1, 1, 0],
    'pclass': [1, 3, 1, 3, 2, 3, 2, 1, 3, 3],
    'sex': ['female', 'male', 'female', 'male', 'female', 'male', 'male', 'female', 'female', 'male'],
    'age': [29, 35, 22, 40, 28, 2, 50, 19, 24, 45],
    'fare': [100, 7.25, 200, 8.05, 30, 21, 15, 250, 10.5, 7.75]
}
df = pd.DataFrame(data)
df.head()
```

## 3. Data Overview
```python
df.info()
```

## 4. Statistical Summary
```python
df.describe()
```

## 5. Value Counts for 'sex' and 'pclass'
```python
df['sex'].value_counts()
df['pclass'].value_counts()
```

## 6. Visualizations

### Histogram of Age
```python
sns.histplot(df['age'], bins=10, kde=True)
plt.title('Age Distribution')
plt.xlabel('Age')
plt.ylabel('Count')
plt.show()
```

### Boxplot of Fare by Survival
```python
sns.boxplot(x='survived', y='fare', data=df)
plt.title('Fare vs Survival')
plt.xlabel('Survived')
plt.ylabel('Fare')
plt.show()
```

### Heatmap of Correlations
```python
sns.heatmap(df.corr(), annot=True, cmap='coolwarm')
plt.title('Correlation Matrix')
plt.show()
```

## 7. Observations
- Younger passengers had higher survival rates.
- Higher fare appears correlated with better survival chances.
- Pclass and fare show some correlation.

## 8. Summary of Findings
Check PDF Summary for final points.
